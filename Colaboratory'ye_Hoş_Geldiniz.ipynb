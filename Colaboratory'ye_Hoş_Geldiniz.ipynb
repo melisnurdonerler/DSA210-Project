{
  "cells": [],
  "metadata": {
    "colab": {
      "name": "Colaboratory'ye Hoş Geldiniz",
      "provenance": []
    },
    "kernelspec": {
      "display_name": "Python 3",
      "name": "python3"
    }
  },
  "nbformat": 4,
  "nbformat_minor": 0
}